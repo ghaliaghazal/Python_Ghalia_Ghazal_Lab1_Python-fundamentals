{
 "cells": [
  {
   "cell_type": "markdown",
   "metadata": {},
   "source": [
    "Lab 1 - Python fundamentals"
   ]
  },
  {
   "cell_type": "code",
   "execution_count": null,
   "metadata": {},
   "outputs": [],
   "source": []
  },
  {
   "cell_type": "markdown",
   "metadata": {},
   "source": [
    "Task 1"
   ]
  },
  {
   "cell_type": "markdown",
   "metadata": {},
   "source": [
    "Define the DNA sequences and their IDs"
   ]
  },
  {
   "cell_type": "code",
   "execution_count": 2,
   "metadata": {},
   "outputs": [],
   "source": [
    "dna_act_seq1 = \"cGTAaccaataaaaaaacaagcttaacctaattc\"\n",
    "dna_act_seq2 = \"agcttagTTTGGatctggccgggg\"\n",
    "dna_act_seq3 = \"gcggatttactcCCCCCAAAAANNaggggagagcccagataaatggagtctgtgcgtccaca\"\n",
    "dna_act_seq4 = \"gcggatttactcaggggagagcccagGGataaatggagtctgtgcgtccaca\"\n",
    "\n",
    "dna_seq1_id = \">seq1\"\n",
    "dna_seq2_id = \">seq2\"\n",
    "dna_seq3_id = \">seq3\"\n",
    "dna_seq4_id = \">seq4\"\n"
   ]
  },
  {
   "cell_type": "markdown",
   "metadata": {},
   "source": [
    "print each DNA sequence together with their IDs"
   ]
  },
  {
   "cell_type": "code",
   "execution_count": 3,
   "metadata": {},
   "outputs": [
    {
     "name": "stdout",
     "output_type": "stream",
     "text": [
      ">seq1\n",
      "cGTAaccaataaaaaaacaagcttaacctaattc\n",
      ">seq2\n",
      "agcttagTTTGGatctggccgggg\n",
      ">seq3\n",
      "gcggatttactcCCCCCAAAAANNaggggagagcccagataaatggagtctgtgcgtccaca\n",
      ">seq4\n",
      "gcggatttactcaggggagagcccagGGataaatggagtctgtgcgtccaca\n"
     ]
    }
   ],
   "source": [
    "print (dna_seq1_id, dna_act_seq1, dna_seq2_id, dna_act_seq2, dna_seq3_id, dna_act_seq3, dna_seq4_id, dna_act_seq4, sep = \"\\n\")"
   ]
  },
  {
   "cell_type": "markdown",
   "metadata": {},
   "source": [
    "- Count how many times each DNA base (a, t, c, g) appears in a given DNA sequence\n",
    "- returns the counts as a dictionary (to hold counts of each nucleotide) "
   ]
  },
  {
   "cell_type": "code",
   "execution_count": 4,
   "metadata": {},
   "outputs": [],
   "source": [
    "def count_base (dna_seq):\n",
    "    counts = {\"a\":0, \"t\":0, \"c\":0, \"g\":0} # Initialize counts for each base\n",
    "    for base in dna_seq.lower(): # convert to lower case to handla both cases\n",
    "        if base in counts:  # check if base is one of a, t, g, c\n",
    "            counts[base] += 1 # every time we see a base, increase its count by 1\n",
    "    return counts # return the dictionary with counts\n",
    "    "
   ]
  },
  {
   "cell_type": "code",
   "execution_count": 26,
   "metadata": {},
   "outputs": [],
   "source": [
    "seq_number = 1"
   ]
  },
  {
   "cell_type": "code",
   "execution_count": 29,
   "metadata": {},
   "outputs": [
    {
     "name": "stdout",
     "output_type": "stream",
     "text": [
      "The final counts seq5: {'a': 17, 't': 7, 'c': 8, 'g': 2}\n",
      "The final counts seq6: {'a': 3, 't': 7, 'c': 4, 'g': 10}\n",
      "The final counts seq7: {'a': 18, 't': 10, 'c': 16, 'g': 16}\n",
      "The final counts seq8: {'a': 13, 't': 10, 'c': 11, 'g': 18}\n"
     ]
    }
   ],
   "source": [
    "# Count bases in each sequence and print the results\n",
    "\n",
    "for i in [dna_act_seq1, dna_act_seq2, dna_act_seq3, dna_act_seq4]:\n",
    "    base_counts = count_base(i)\n",
    "    print (\"The final counts seq\" + str(seq_number ) + \":\", count_base(i))\n",
    "    seq_number += 1"
   ]
  },
  {
   "cell_type": "markdown",
   "metadata": {},
   "source": [
    "Print the counts of each DNA base (a, t, c, g) for each sequence using by count_base function"
   ]
  },
  {
   "cell_type": "code",
   "execution_count": 5,
   "metadata": {},
   "outputs": [
    {
     "name": "stdout",
     "output_type": "stream",
     "text": [
      "The final counts seq1: {'a': 17, 't': 7, 'c': 8, 'g': 2}\n",
      "The final counts seq2: {'a': 3, 't': 7, 'c': 4, 'g': 10}\n",
      "The final counts seq3: {'a': 18, 't': 10, 'c': 16, 'g': 16}\n",
      "The final counts seq4: {'a': 13, 't': 10, 'c': 11, 'g': 18}\n"
     ]
    }
   ],
   "source": [
    "print (\"The final counts seq1:\" , count_base(dna_act_seq1))\n",
    "print (\"The final counts seq2:\" , count_base(dna_act_seq2))\n",
    "print (\"The final counts seq3:\" , count_base(dna_act_seq3))\n",
    "print (\"The final counts seq4:\" , count_base(dna_act_seq4))\n",
    "\n",
    "\n"
   ]
  },
  {
   "cell_type": "code",
   "execution_count": null,
   "metadata": {},
   "outputs": [],
   "source": [
    "#to draw graphs\n",
    "import numpy as np\n",
    "import matplotlib.pyplot as plt "
   ]
  },
  {
   "cell_type": "markdown",
   "metadata": {},
   "source": [
    "Task 2"
   ]
  },
  {
   "cell_type": "code",
   "execution_count": 19,
   "metadata": {},
   "outputs": [],
   "source": [
    "dna_act_seqs = [ \"cGTAaccaataaaaaaacaagcttaacctaattc\",\"agcttagTTTGGatctggccgggg\", \"\"\"gcggatttactcCCCCCAAAAANNaggggagagcccagataaatggagtctgtgcgtccaca\n",
    "gaattcgcacca\n",
    "AATAAAACCTCACCCAT\n",
    "agagcccagaatttactcCCC\"\"\", \"\"\"gcggatttactcaggggagagcccagGGataaatggagtctgtgcgtccaca\n",
    "gaattcgcacca\"\"\" ]\n",
    "\n",
    "dna_seq_ids = [\">seq1\", \">seq2\", \">seq3\", \">seq4\"]\n",
    "\n",
    "\n"
   ]
  },
  {
   "cell_type": "code",
   "execution_count": null,
   "metadata": {},
   "outputs": [],
   "source": [
    "for i in range (4):\n",
    "    print (dna_seq_ids[i], dna_act_seqs[i], sep = \"\\n\")\n",
    "    print ()"
   ]
  },
  {
   "cell_type": "code",
   "execution_count": 26,
   "metadata": {},
   "outputs": [],
   "source": [
    "def count_base (dna_seq):\n",
    "    counts = {\"a\":0, \"t\":0, \"c\":0, \"g\":0}\n",
    "    for base in dna_seq.lower():\n",
    "        if base in counts: \n",
    "            counts[base] += 1\n",
    "    return counts \n",
    "    "
   ]
  },
  {
   "cell_type": "code",
   "execution_count": 29,
   "metadata": {},
   "outputs": [
    {
     "name": "stdout",
     "output_type": "stream",
     "text": [
      "The final counts seq1: {'a': 17, 't': 7, 'c': 8, 'g': 2}\n",
      "The final counts seq2: {'a': 3, 't': 7, 'c': 4, 'g': 10}\n",
      "The final counts seq3: {'a': 36, 't': 19, 'c': 34, 'g': 21}\n",
      "The final counts seq4: {'a': 17, 't': 12, 'c': 15, 'g': 20}\n"
     ]
    }
   ],
   "source": [
    "print (\"The final counts seq1:\" , count_base(dna_act_seqs[0]))\n",
    "print (\"The final counts seq2:\" , count_base(dna_act_seqs[1]))\n",
    "print (\"The final counts seq3:\" , count_base(dna_act_seqs[2]))\n",
    "print (\"The final counts seq4:\" , count_base(dna_act_seqs[3]))"
   ]
  }
 ],
 "metadata": {
  "kernelspec": {
   "display_name": ".venv",
   "language": "python",
   "name": "python3"
  },
  "language_info": {
   "codemirror_mode": {
    "name": "ipython",
    "version": 3
   },
   "file_extension": ".py",
   "mimetype": "text/x-python",
   "name": "python",
   "nbconvert_exporter": "python",
   "pygments_lexer": "ipython3",
   "version": "3.12.8"
  }
 },
 "nbformat": 4,
 "nbformat_minor": 2
}
